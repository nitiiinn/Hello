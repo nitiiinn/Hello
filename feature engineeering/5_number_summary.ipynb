{
 "cells": [
  {
   "cell_type": "code",
   "execution_count": 6,
   "id": "a7f56e41",
   "metadata": {},
   "outputs": [],
   "source": [
    "import numpy as np\n",
    "import seaborn as sns"
   ]
  },
  {
   "cell_type": "code",
   "execution_count": 34,
   "id": "7e9d449e",
   "metadata": {},
   "outputs": [
    {
     "name": "stdout",
     "output_type": "stream",
     "text": [
      "Minimum: 22.0\n",
      "1st Quartile: 57.75\n",
      "Median: 88.5\n",
      "3rd Quartile: 94.0\n",
      "Maximum: 155.0\n"
     ]
    }
   ],
   "source": [
    "marks=[22,44,33,55,66,77,88,99,94,67,83,47,53,45,67,89,90,91,92,93,94,95,96,97,98,155]\n",
    "min,first_quartile,median,third_quartile,max=np.quantile(marks,[0,0.25,0.50,0.75,1.0])\n",
    "print(\"Minimum:\",min)       \n",
    "print(\"1st Quartile:\",first_quartile)\n",
    "print(\"Median:\",median)\n",
    "print(\"3rd Quartile:\",third_quartile)\n",
    "print(\"Maximum:\",max)"
   ]
  },
  {
   "cell_type": "code",
   "execution_count": 35,
   "id": "258d4948",
   "metadata": {},
   "outputs": [
    {
     "name": "stdout",
     "output_type": "stream",
     "text": [
      "Inter Quartile Range: 36.25\n"
     ]
    }
   ],
   "source": [
    "IQR=third_quartile-first_quartile\n",
    "print(\"Inter Quartile Range:\",IQR)\n"
   ]
  },
  {
   "cell_type": "code",
   "execution_count": 36,
   "id": "b33797b1",
   "metadata": {},
   "outputs": [
    {
     "name": "stdout",
     "output_type": "stream",
     "text": [
      "Lower Fence: 3.375\n",
      "Upper Fence: 148.375\n"
     ]
    }
   ],
   "source": [
    "LOWER_FENCE=first_quartile-1.5*IQR\n",
    "UPPER_FENCE=third_quartile+1.5*IQR  \n",
    "print(\"Lower Fence:\",LOWER_FENCE)\n",
    "print(\"Upper Fence:\",UPPER_FENCE)"
   ]
  },
  {
   "cell_type": "code",
   "execution_count": 37,
   "id": "1c772f5e",
   "metadata": {},
   "outputs": [
    {
     "data": {
      "text/plain": [
       "<Axes: >"
      ]
     },
     "execution_count": 37,
     "metadata": {},
     "output_type": "execute_result"
    },
    {
     "data": {
      "image/png": "[encoded data removed]",
      "text/plain": [
       "<Figure size 640x480 with 1 Axes>"
      ]
     },
     "metadata": {},
     "output_type": "display_data"
    }
   ],
   "source": [
    "sns.boxplot(marks)"
   ]
  }
 ],
 "metadata": {
  "kernelspec": {
   "display_name": "venv",
   "language": "python",
   "name": "python3"
  },
  "language_info": {
   "codemirror_mode": {
    "name": "ipython",
    "version": 3
   },
   "file_extension": ".py",
   "mimetype": "text/x-python",
   "name": "python",
   "nbconvert_exporter": "python",
   "pygments_lexer": "ipython3",
   "version": "3.13.1"
  }
 },
 "nbformat": 4,
 "nbformat_minor": 5
}
