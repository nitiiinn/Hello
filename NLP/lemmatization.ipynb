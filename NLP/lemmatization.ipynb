{
 "cells": [
  {
   "cell_type": "code",
   "execution_count": 4,
   "id": "e0006c72",
   "metadata": {},
   "outputs": [
    {
     "data": {
      "text/plain": [
       "'write'"
      ]
     },
     "execution_count": 4,
     "metadata": {},
     "output_type": "execute_result"
    }
   ],
   "source": [
    "from nltk.stem import WordNetLemmatizer\n",
    "lemmatizer=WordNetLemmatizer()\n",
    "lemmatizer.lemmatize('writing',pos='v')"
   ]
  },
  {
   "cell_type": "code",
   "execution_count": 5,
   "id": "67a458c2",
   "metadata": {},
   "outputs": [],
   "source": [
    "words=['eating','eaten','eats','programmer','program','programming','coder','code','coding']"
   ]
  },
  {
   "cell_type": "code",
   "execution_count": 9,
   "id": "72464620",
   "metadata": {},
   "outputs": [
    {
     "name": "stdout",
     "output_type": "stream",
     "text": [
      "eating = eat\n",
      "eaten = eat\n",
      "eats = eat\n",
      "programmer = programmer\n",
      "program = program\n",
      "programming = program\n",
      "coder = coder\n",
      "code = code\n",
      "coding = cod\n"
     ]
    }
   ],
   "source": [
    "for word in words:\n",
    "    print(word,\"=\",lemmatizer.lemmatize(word,pos='v'))"
   ]
  },
  {
   "cell_type": "code",
   "execution_count": null,
   "id": "3ac6062c",
   "metadata": {},
   "outputs": [],
   "source": []
  }
 ],
 "metadata": {
  "kernelspec": {
   "display_name": "base",
   "language": "python",
   "name": "python3"
  },
  "language_info": {
   "codemirror_mode": {
    "name": "ipython",
    "version": 3
   },
   "file_extension": ".py",
   "mimetype": "text/x-python",
   "name": "python",
   "nbconvert_exporter": "python",
   "pygments_lexer": "ipython3",
   "version": "3.12.7"
  }
 },
 "nbformat": 4,
 "nbformat_minor": 5
}
