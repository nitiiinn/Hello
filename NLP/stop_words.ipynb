{
 "cells": [
  {
   "cell_type": "code",
   "execution_count": 6,
   "id": "22c53299",
   "metadata": {},
   "outputs": [],
   "source": [
    "paragraph=\"\"\"Formula 1, often referred to as F1, is the highest class of international single-seater racing and is widely considered the pinnacle of motorsport due to its unmatched combination of speed, technology, and global spectacle. Governing bodies, teams, and engineers collaborate to push the boundaries of automotive innovation, developing cars capable of exceeding 350 km/h while maintaining precision through some of the most challenging corners and circuits in the world. Each season consists of a series of Grand Prix races held across various countries, turning the championship into a worldwide tour that showcases diverse cultures and racing traditions. The sport features 10 teams and 20 elite drivers who undergo rigorous physical and mental training to withstand intense G-force, split-second decision-making, and fierce competition. Strategy plays a crucial role, with pit stops, tire choices, aerodynamics, and real-time data analysis contributing to every race’s outcome. The roar of hybrid power units, the complexity of cutting-edge electronics, and the artistry of aerodynamic design make every car a marvel of modern engineering. Beyond the track, F1 has evolved into a massive global entertainment industry, attracting millions of fans, generating significant economic impact, and inspiring advancements in everyday car technology, including safety systems and fuel-efficiency innovations. Its long history, legendary drivers like Michael Schumacher, Ayrton Senna, and Lewis Hamilton, and iconic teams such as Ferrari, McLaren, and Mercedes have cemented Formula 1’s reputation as not just a sport, but a thrilling fusion of science, skill, passion, and speed.\"\"\""
   ]
  },
  {
   "cell_type": "code",
   "execution_count": 7,
   "id": "dc2ec375",
   "metadata": {},
   "outputs": [
    {
     "name": "stderr",
     "output_type": "stream",
     "text": [
      "[nltk_data] Downloading package stopwords to\n",
      "[nltk_data]     C:\\Users\\Nitin\\AppData\\Roaming\\nltk_data...\n",
      "[nltk_data]   Package stopwords is already up-to-date!\n"
     ]
    },
    {
     "data": {
      "text/plain": [
       "True"
      ]
     },
     "execution_count": 7,
     "metadata": {},
     "output_type": "execute_result"
    }
   ],
   "source": [
    "import nltk\n",
    "nltk.download('stopwords')"
   ]
  },
  {
   "cell_type": "code",
   "execution_count": 8,
   "id": "c5605ed7",
   "metadata": {},
   "outputs": [],
   "source": [
    "from nltk.stem import PorterStemmer\n"
   ]
  },
  {
   "cell_type": "code",
   "execution_count": 9,
   "id": "78b2d766",
   "metadata": {},
   "outputs": [
    {
     "data": {
      "text/plain": [
       "['a',\n",
       " 'about',\n",
       " 'above',\n",
       " 'after',\n",
       " 'again',\n",
       " 'against',\n",
       " 'ain',\n",
       " 'all',\n",
       " 'am',\n",
       " 'an',\n",
       " 'and',\n",
       " 'any',\n",
       " 'are',\n",
       " 'aren',\n",
       " \"aren't\",\n",
       " 'as',\n",
       " 'at',\n",
       " 'be',\n",
       " 'because',\n",
       " 'been',\n",
       " 'before',\n",
       " 'being',\n",
       " 'below',\n",
       " 'between',\n",
       " 'both',\n",
       " 'but',\n",
       " 'by',\n",
       " 'can',\n",
       " 'couldn',\n",
       " \"couldn't\",\n",
       " 'd',\n",
       " 'did',\n",
       " 'didn',\n",
       " \"didn't\",\n",
       " 'do',\n",
       " 'does',\n",
       " 'doesn',\n",
       " \"doesn't\",\n",
       " 'doing',\n",
       " 'don',\n",
       " \"don't\",\n",
       " 'down',\n",
       " 'during',\n",
       " 'each',\n",
       " 'few',\n",
       " 'for',\n",
       " 'from',\n",
       " 'further',\n",
       " 'had',\n",
       " 'hadn',\n",
       " \"hadn't\",\n",
       " 'has',\n",
       " 'hasn',\n",
       " \"hasn't\",\n",
       " 'have',\n",
       " 'haven',\n",
       " \"haven't\",\n",
       " 'having',\n",
       " 'he',\n",
       " \"he'd\",\n",
       " \"he'll\",\n",
       " 'her',\n",
       " 'here',\n",
       " 'hers',\n",
       " 'herself',\n",
       " \"he's\",\n",
       " 'him',\n",
       " 'himself',\n",
       " 'his',\n",
       " 'how',\n",
       " 'i',\n",
       " \"i'd\",\n",
       " 'if',\n",
       " \"i'll\",\n",
       " \"i'm\",\n",
       " 'in',\n",
       " 'into',\n",
       " 'is',\n",
       " 'isn',\n",
       " \"isn't\",\n",
       " 'it',\n",
       " \"it'd\",\n",
       " \"it'll\",\n",
       " \"it's\",\n",
       " 'its',\n",
       " 'itself',\n",
       " \"i've\",\n",
       " 'just',\n",
       " 'll',\n",
       " 'm',\n",
       " 'ma',\n",
       " 'me',\n",
       " 'mightn',\n",
       " \"mightn't\",\n",
       " 'more',\n",
       " 'most',\n",
       " 'mustn',\n",
       " \"mustn't\",\n",
       " 'my',\n",
       " 'myself',\n",
       " 'needn',\n",
       " \"needn't\",\n",
       " 'no',\n",
       " 'nor',\n",
       " 'not',\n",
       " 'now',\n",
       " 'o',\n",
       " 'of',\n",
       " 'off',\n",
       " 'on',\n",
       " 'once',\n",
       " 'only',\n",
       " 'or',\n",
       " 'other',\n",
       " 'our',\n",
       " 'ours',\n",
       " 'ourselves',\n",
       " 'out',\n",
       " 'over',\n",
       " 'own',\n",
       " 're',\n",
       " 's',\n",
       " 'same',\n",
       " 'shan',\n",
       " \"shan't\",\n",
       " 'she',\n",
       " \"she'd\",\n",
       " \"she'll\",\n",
       " \"she's\",\n",
       " 'should',\n",
       " 'shouldn',\n",
       " \"shouldn't\",\n",
       " \"should've\",\n",
       " 'so',\n",
       " 'some',\n",
       " 'such',\n",
       " 't',\n",
       " 'than',\n",
       " 'that',\n",
       " \"that'll\",\n",
       " 'the',\n",
       " 'their',\n",
       " 'theirs',\n",
       " 'them',\n",
       " 'themselves',\n",
       " 'then',\n",
       " 'there',\n",
       " 'these',\n",
       " 'they',\n",
       " \"they'd\",\n",
       " \"they'll\",\n",
       " \"they're\",\n",
       " \"they've\",\n",
       " 'this',\n",
       " 'those',\n",
       " 'through',\n",
       " 'to',\n",
       " 'too',\n",
       " 'under',\n",
       " 'until',\n",
       " 'up',\n",
       " 've',\n",
       " 'very',\n",
       " 'was',\n",
       " 'wasn',\n",
       " \"wasn't\",\n",
       " 'we',\n",
       " \"we'd\",\n",
       " \"we'll\",\n",
       " \"we're\",\n",
       " 'were',\n",
       " 'weren',\n",
       " \"weren't\",\n",
       " \"we've\",\n",
       " 'what',\n",
       " 'when',\n",
       " 'where',\n",
       " 'which',\n",
       " 'while',\n",
       " 'who',\n",
       " 'whom',\n",
       " 'why',\n",
       " 'will',\n",
       " 'with',\n",
       " 'won',\n",
       " \"won't\",\n",
       " 'wouldn',\n",
       " \"wouldn't\",\n",
       " 'y',\n",
       " 'you',\n",
       " \"you'd\",\n",
       " \"you'll\",\n",
       " 'your',\n",
       " \"you're\",\n",
       " 'yours',\n",
       " 'yourself',\n",
       " 'yourselves',\n",
       " \"you've\"]"
      ]
     },
     "execution_count": 9,
     "metadata": {},
     "output_type": "execute_result"
    }
   ],
   "source": [
    "from nltk.corpus import stopwords\n",
    "stopwords.words('english')"
   ]
  },
  {
   "cell_type": "code",
   "execution_count": 10,
   "id": "0004942f",
   "metadata": {},
   "outputs": [
    {
     "data": {
      "text/plain": [
       "['Formula 1, often referred to as F1, is the highest class of international single-seater racing and is widely considered the pinnacle of motorsport due to its unmatched combination of speed, technology, and global spectacle.',\n",
       " 'Governing bodies, teams, and engineers collaborate to push the boundaries of automotive innovation, developing cars capable of exceeding 350 km/h while maintaining precision through some of the most challenging corners and circuits in the world.',\n",
       " 'Each season consists of a series of Grand Prix races held across various countries, turning the championship into a worldwide tour that showcases diverse cultures and racing traditions.',\n",
       " 'The sport features 10 teams and 20 elite drivers who undergo rigorous physical and mental training to withstand intense G-force, split-second decision-making, and fierce competition.',\n",
       " 'Strategy plays a crucial role, with pit stops, tire choices, aerodynamics, and real-time data analysis contributing to every race’s outcome.',\n",
       " 'The roar of hybrid power units, the complexity of cutting-edge electronics, and the artistry of aerodynamic design make every car a marvel of modern engineering.',\n",
       " 'Beyond the track, F1 has evolved into a massive global entertainment industry, attracting millions of fans, generating significant economic impact, and inspiring advancements in everyday car technology, including safety systems and fuel-efficiency innovations.',\n",
       " 'Its long history, legendary drivers like Michael Schumacher, Ayrton Senna, and Lewis Hamilton, and iconic teams such as Ferrari, McLaren, and Mercedes have cemented Formula 1’s reputation as not just a sport, but a thrilling fusion of science, skill, passion, and speed.']"
      ]
     },
     "execution_count": 10,
     "metadata": {},
     "output_type": "execute_result"
    }
   ],
   "source": [
    "stemmer=PorterStemmer()\n",
    "sentences=nltk.sent_tokenize(paragraph)\n",
    "sentences"
   ]
  },
  {
   "cell_type": "code",
   "execution_count": 11,
   "id": "883371d0",
   "metadata": {},
   "outputs": [],
   "source": [
    "# apply stopwords and then stemming"
   ]
  },
  {
   "cell_type": "code",
   "execution_count": 15,
   "id": "1adb1884",
   "metadata": {},
   "outputs": [],
   "source": [
    "for i in range(len(sentences)):\n",
    "    words=nltk.word_tokenize(sentences[i])\n",
    "    words=[stemmer.stem(word) for word in words if word not in set(stopwords.words('english'))]\n",
    "    sentences[i]=' '.join(words)"
   ]
  },
  {
   "cell_type": "code",
   "execution_count": 17,
   "id": "ff7ff13c",
   "metadata": {},
   "outputs": [
    {
     "data": {
      "text/plain": [
       "['formula 1 , often refer f1 , highest class intern single-seat race wide consid pinnacl motorsport due unmatch combin speed , technolog , global spectacl .',\n",
       " 'govern bodi , team , engin collabor push boundari automot innov , develop car capabl exceed 350 km/h maintain precis challeng corner circuit world .',\n",
       " 'each season consist seri grand prix race held across variou countri , turn championship worldwid tour showcas divers cultur race tradit .',\n",
       " 'the sport featur 10 team 20 elit driver undergo rigor physic mental train withstand intens g-forc , split-second decision-mak , fierc competit .',\n",
       " 'strategi play crucial role , pit stop , tire choic , aerodynam , real-tim data analysi contribut everi race ’ outcom .',\n",
       " 'the roar hybrid power unit , complex cutting-edg electron , artistri aerodynam design make everi car marvel modern engin .',\n",
       " 'beyond track , f1 evolv massiv global entertain industri , attract million fan , gener signific econom impact , inspir advanc everyday car technolog , includ safeti system fuel-effici innov .',\n",
       " 'it long histori , legendari driver like michael schumach , ayrton senna , lewi hamilton , icon team ferrari , mclaren , merced cement formula 1 ’ reput sport , thrill fusion scienc , skill , passion , speed .']"
      ]
     },
     "execution_count": 17,
     "metadata": {},
     "output_type": "execute_result"
    }
   ],
   "source": [
    "sentences"
   ]
  },
  {
   "cell_type": "markdown",
   "id": "31d485c5",
   "metadata": {},
   "source": [
    "## APPLYING LEMMATIZATION AND REMOVING STOPWORDS"
   ]
  },
  {
   "cell_type": "code",
   "execution_count": 23,
   "id": "9f603fe3",
   "metadata": {},
   "outputs": [],
   "source": [
    "from nltk.stem import WordNetLemmatizer\n",
    "lemmatizer=WordNetLemmatizer()\n",
    "sentences=nltk.sent_tokenize(paragraph)\n",
    "for i in range(len(sentences)):\n",
    "    words=nltk.word_tokenize(sentences[i])\n",
    "    words=[lemmatizer.lemmatize(word,pos='v') for word in words if word not in set(stopwords.words('english'))]\n",
    "    sentences[i]=' '.join(words)"
   ]
  },
  {
   "cell_type": "code",
   "execution_count": 24,
   "id": "48c8d791",
   "metadata": {},
   "outputs": [
    {
     "data": {
      "text/plain": [
       "['Formula 1 , often refer F1 , highest class international single-seater race widely consider pinnacle motorsport due unmatched combination speed , technology , global spectacle .',\n",
       " 'Governing body , team , engineer collaborate push boundaries automotive innovation , develop cars capable exceed 350 km/h maintain precision challenge corner circuit world .',\n",
       " 'Each season consist series Grand Prix race hold across various countries , turn championship worldwide tour showcases diverse culture race traditions .',\n",
       " 'The sport feature 10 team 20 elite drivers undergo rigorous physical mental train withstand intense G-force , split-second decision-making , fierce competition .',\n",
       " 'Strategy play crucial role , pit stop , tire choices , aerodynamics , real-time data analysis contribute every race ’ outcome .',\n",
       " 'The roar hybrid power units , complexity cutting-edge electronics , artistry aerodynamic design make every car marvel modern engineer .',\n",
       " 'Beyond track , F1 evolve massive global entertainment industry , attract millions fan , generate significant economic impact , inspire advancements everyday car technology , include safety systems fuel-efficiency innovations .',\n",
       " 'Its long history , legendary drivers like Michael Schumacher , Ayrton Senna , Lewis Hamilton , iconic team Ferrari , McLaren , Mercedes cement Formula 1 ’ reputation sport , thrill fusion science , skill , passion , speed .']"
      ]
     },
     "execution_count": 24,
     "metadata": {},
     "output_type": "execute_result"
    }
   ],
   "source": [
    "sentences"
   ]
  },
  {
   "cell_type": "code",
   "execution_count": null,
   "id": "935e5cca",
   "metadata": {},
   "outputs": [],
   "source": []
  }
 ],
 "metadata": {
  "kernelspec": {
   "display_name": "base",
   "language": "python",
   "name": "python3"
  },
  "language_info": {
   "codemirror_mode": {
    "name": "ipython",
    "version": 3
   },
   "file_extension": ".py",
   "mimetype": "text/x-python",
   "name": "python",
   "nbconvert_exporter": "python",
   "pygments_lexer": "ipython3",
   "version": "3.12.7"
  }
 },
 "nbformat": 4,
 "nbformat_minor": 5
}
